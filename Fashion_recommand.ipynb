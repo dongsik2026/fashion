{
 "cells": [
  {
   "cell_type": "code",
   "execution_count": 2,
   "metadata": {},
   "outputs": [
    {
     "ename": "ModuleNotFoundError",
     "evalue": "No module named 'swifter'",
     "output_type": "error",
     "traceback": [
      "\u001b[1;31m---------------------------------------------------------------------------\u001b[0m",
      "\u001b[1;31mModuleNotFoundError\u001b[0m                       Traceback (most recent call last)",
      "\u001b[1;32m<ipython-input-2-f024bca20968>\u001b[0m in \u001b[0;36m<module>\u001b[1;34m\u001b[0m\n\u001b[0;32m      2\u001b[0m \u001b[1;32mfrom\u001b[0m \u001b[0msklearn\u001b[0m\u001b[1;33m.\u001b[0m\u001b[0mmetrics\u001b[0m\u001b[1;33m.\u001b[0m\u001b[0mpairwise\u001b[0m \u001b[1;32mimport\u001b[0m \u001b[0mpairwise_distances\u001b[0m\u001b[1;33m\u001b[0m\u001b[1;33m\u001b[0m\u001b[0m\n\u001b[0;32m      3\u001b[0m \u001b[1;32mfrom\u001b[0m \u001b[0mmpl_toolkits\u001b[0m\u001b[1;33m.\u001b[0m\u001b[0mmplot3d\u001b[0m \u001b[1;32mimport\u001b[0m \u001b[0mAxes3D\u001b[0m\u001b[1;33m\u001b[0m\u001b[1;33m\u001b[0m\u001b[0m\n\u001b[1;32m----> 4\u001b[1;33m \u001b[1;32mimport\u001b[0m \u001b[0mswifter\u001b[0m\u001b[1;33m\u001b[0m\u001b[1;33m\u001b[0m\u001b[0m\n\u001b[0m\u001b[0;32m      5\u001b[0m \u001b[1;32mimport\u001b[0m \u001b[0mmatplotlib\u001b[0m\u001b[1;33m.\u001b[0m\u001b[0mpyplot\u001b[0m \u001b[1;32mas\u001b[0m \u001b[0mplt\u001b[0m\u001b[1;33m\u001b[0m\u001b[1;33m\u001b[0m\u001b[0m\n\u001b[0;32m      6\u001b[0m \u001b[1;32mimport\u001b[0m \u001b[0mmatplotlib\u001b[0m\u001b[1;33m.\u001b[0m\u001b[0mimage\u001b[0m \u001b[1;32mas\u001b[0m \u001b[0mmpimg\u001b[0m\u001b[1;33m\u001b[0m\u001b[1;33m\u001b[0m\u001b[0m\n",
      "\u001b[1;31mModuleNotFoundError\u001b[0m: No module named 'swifter'"
     ]
    }
   ],
   "source": [
    "from sklearn.preprocessing import StandardScaler\n",
    "from sklearn.metrics.pairwise import pairwise_distances\n",
    "from mpl_toolkits.mplot3d import Axes3D\n",
    "import swifter\n",
    "import matplotlib.pyplot as plt\n",
    "import matplotlib.image as mpimg\n",
    "import numpy as np\n",
    "import pandas as pd\n",
    "import os\n",
    "import cv2\n",
    "import tensorflow as tf\n",
    "from tensorflow.keras import Model\n",
    "from tensorflow.keras.applications.resnet50 import ResNet50\n",
    "from tensorflow.keras.preprocessing import image\n",
    "from tensorflow.keras.applications.resnet50 import preprocess_input, decode_predictions\n",
    "from tensorflow.keras.layers import GlobalMaxPooling2D"
   ]
  },
  {
   "cell_type": "code",
   "execution_count": null,
   "metadata": {},
   "outputs": [],
   "source": [
    "DATASET_PATH = \"./myntradataset/\"\n",
    "df = pd.read_csv(DATASET_PATH + \"styles.csv\", nrows=5000, error_bad_lines=False)\n",
    "df['image'] = df.apply(lambda row: str(row['id']) + \".jpg\", axis=1)\n",
    "df = df.reset_index(drop=True)"
   ]
  },
  {
   "cell_type": "code",
   "execution_count": 2,
   "metadata": {},
   "outputs": [
    {
     "ename": "NameError",
     "evalue": "name 'python' is not defined",
     "output_type": "error",
     "traceback": [
      "\u001b[1;31m---------------------------------------------------------------------------\u001b[0m",
      "\u001b[1;31mNameError\u001b[0m                                 Traceback (most recent call last)",
      "\u001b[1;32m<ipython-input-2-2a0663a0ebca>\u001b[0m in \u001b[0;36m<module>\u001b[1;34m\u001b[0m\n\u001b[1;32m----> 1\u001b[1;33m \u001b[0mpython\u001b[0m \u001b[1;33m-\u001b[0m\u001b[0mV\u001b[0m\u001b[1;33m\u001b[0m\u001b[1;33m\u001b[0m\u001b[0m\n\u001b[0m",
      "\u001b[1;31mNameError\u001b[0m: name 'python' is not defined"
     ]
    }
   ],
   "source": [
    "python -V\n"
   ]
  },
  {
   "cell_type": "code",
   "execution_count": 3,
   "metadata": {},
   "outputs": [
    {
     "name": "stdout",
     "output_type": "stream",
     "text": [
      "Python 3.6.8\n"
     ]
    }
   ],
   "source": [
    "!python -V"
   ]
  },
  {
   "cell_type": "code",
   "execution_count": 1,
   "metadata": {},
   "outputs": [
    {
     "name": "stdout",
     "output_type": "stream",
     "text": [
      "Package                  Version\n",
      "------------------------ ---------\n",
      "absl-py                  0.11.0\n",
      "aiohttp                  3.7.2\n",
      "aiohttp-cors             0.7.0\n",
      "aioredis                 1.3.1\n",
      "annoy                    1.17.0\n",
      "astunparse               1.6.3\n",
      "async-timeout            3.0.1\n",
      "attrs                    20.3.0\n",
      "backcall                 0.2.0\n",
      "beautifulsoup4           4.9.3\n",
      "bleach                   3.2.1\n",
      "blessings                1.7\n",
      "blis                     0.4.1\n",
      "Bottleneck               1.3.2\n",
      "cached-property          1.5.2\n",
      "cachetools               4.1.1\n",
      "catalogue                1.0.0\n",
      "certifi                  2020.6.20\n",
      "chardet                  3.0.4\n",
      "click                    7.1.2\n",
      "colorama                 0.4.4\n",
      "colorful                 0.5.4\n",
      "contextvars              2.4\n",
      "cycler                   0.10.0\n",
      "cymem                    2.0.3\n",
      "dask                     2.30.0\n",
      "dataclasses              0.7\n",
      "decorator                4.4.2\n",
      "fastai                   1.0.54\n",
      "fastprogress             1.0.0\n",
      "filelock                 3.0.12\n",
      "Flask                    1.1.2\n",
      "fsspec                   0.8.4\n",
      "gast                     0.3.3\n",
      "google                   3.0.0\n",
      "google-api-core          1.23.0\n",
      "google-auth              1.23.0\n",
      "google-auth-oauthlib     0.4.2\n",
      "google-pasta             0.2.0\n",
      "googleapis-common-protos 1.52.0\n",
      "gpustat                  0.6.0\n",
      "grpcio                   1.33.2\n",
      "gunicorn                 20.0.4\n",
      "h5py                     2.10.0\n",
      "hiredis                  1.1.0\n",
      "idna                     2.10\n",
      "idna-ssl                 1.1.0\n",
      "immutables               0.14\n",
      "importlib-metadata       2.0.0\n",
      "ipykernel                5.3.4\n",
      "ipython                  7.16.1\n",
      "ipython-genutils         0.2.0\n",
      "ipywidgets               8.0.0a0\n",
      "itsdangerous             1.1.0\n",
      "jedi                     0.17.2\n",
      "Jinja2                   2.11.2\n",
      "joblib                   0.17.0\n",
      "jsonschema               3.2.0\n",
      "jupyter-client           6.1.7\n",
      "jupyter-core             4.6.3\n",
      "Keras                    2.4.3\n",
      "Keras-Preprocessing      1.1.2\n",
      "kiwisolver               1.3.0\n",
      "locket                   0.2.0\n",
      "Markdown                 3.3.3\n",
      "MarkupSafe               1.1.1\n",
      "matplotlib               3.3.2\n",
      "modin                    0.8.1.1\n",
      "msgpack                  1.0.0\n",
      "multidict                5.0.0\n",
      "murmurhash               1.0.2\n",
      "nbformat                 5.0.8\n",
      "numexpr                  2.7.1\n",
      "numpy                    1.18.5\n",
      "nvidia-ml-py3            7.352.0\n",
      "oauthlib                 3.1.0\n",
      "opencensus               0.7.11\n",
      "opencensus-context       0.1.2\n",
      "opencv-python            4.4.0.46\n",
      "opt-einsum               3.3.0\n",
      "packaging                20.4\n",
      "pandas                   1.1.3\n",
      "parso                    0.8.0\n",
      "partd                    1.1.0\n",
      "pickleshare              0.7.5\n",
      "Pillow                   8.0.1\n",
      "pip                      20.2.4\n",
      "plac                     1.1.3\n",
      "preshed                  3.0.2\n",
      "prometheus-client        0.8.0\n",
      "prompt-toolkit           3.0.8\n",
      "protobuf                 3.13.0\n",
      "psutil                   5.7.3\n",
      "py-spy                   0.3.3\n",
      "pyarrow                  0.16.0\n",
      "pyasn1                   0.4.8\n",
      "pyasn1-modules           0.2.8\n",
      "Pygments                 2.7.2\n",
      "pyparsing                2.4.7\n",
      "pyrsistent               0.17.3\n",
      "python-dateutil          2.8.1\n",
      "pytz                     2020.1\n",
      "pywin32                  228\n",
      "PyYAML                   5.3.1\n",
      "pyzmq                    19.0.2\n",
      "ray                      1.0.0\n",
      "redis                    3.4.1\n",
      "requests                 2.24.0\n",
      "requests-oauthlib        1.3.0\n",
      "rsa                      4.6\n",
      "scikit-learn             0.23.2\n",
      "scipy                    1.5.3\n",
      "setuptools               50.3.2\n",
      "six                      1.15.0\n",
      "sklearn                  0.0\n",
      "soupsieve                2.0.1\n",
      "spacy                    2.3.2\n",
      "srsly                    1.0.2\n",
      "swifter                  1.0.7\n",
      "tensorboard              2.3.0\n",
      "tensorboard-plugin-wit   1.7.0\n",
      "tensorflow               2.3.1\n",
      "tensorflow-estimator     2.3.0\n",
      "termcolor                1.1.0\n",
      "thinc                    7.4.1\n",
      "threadpoolctl            2.1.0\n",
      "toolz                    0.11.1\n",
      "torch                    1.1.0\n",
      "torchvision              0.4.2+cpu\n",
      "tornado                  6.1\n",
      "tqdm                     4.51.0\n",
      "traitlets                4.3.3\n",
      "typing                   3.7.4.3\n",
      "typing-extensions        3.7.4.3\n",
      "urllib3                  1.25.11\n",
      "wasabi                   0.8.0\n",
      "wcwidth                  0.2.5\n",
      "webencodings             0.5.1\n",
      "Werkzeug                 1.0.1\n",
      "wheel                    0.35.1\n",
      "widgetsnbextension       4.0.0a0\n",
      "wrapt                    1.12.1\n",
      "yarl                     1.6.2\n",
      "zipp                     3.4.0\n"
     ]
    }
   ],
   "source": []
  }
 ],
 "metadata": {
  "kernelspec": {
   "display_name": "Python 3",
   "language": "python",
   "name": "python3"
  },
  "language_info": {
   "codemirror_mode": {
    "name": "ipython",
    "version": 3
   },
   "file_extension": ".py",
   "mimetype": "text/x-python",
   "name": "python",
   "nbconvert_exporter": "python",
   "pygments_lexer": "ipython3",
   "version": "3.8.6"
  }
 },
 "nbformat": 4,
 "nbformat_minor": 4
}
